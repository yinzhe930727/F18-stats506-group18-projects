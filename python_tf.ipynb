{
 "cells": [
  {
   "cell_type": "markdown",
   "metadata": {},
   "source": [
    "# Netural Networks: Multilayer Perceptron Models - Tensorflow\n",
    "\n",
    "## *Group 18: Ming Gao, Zhe Yin, Zizhao Zhang*\n",
    "\n",
    "### Introduction | <a href=\"./introduction.html\">Home</a>\n",
    "\n",
    "### Introduction & General Sense: \n",
    "The neural network works in terms of a framework for many different machine learning algorithms to work together and process complex data inputs. The neural network statistical data modeling tool is where the complex relationships between inputs and outputs are modeled or sepecific confounded patterns are found to perform mainly tasks like clustering, classification, pattern recognition and other unsupervised machine learnings.\n",
    "\n",
    " The below process and simulation are build via the frameworks of Tensorflow in python 3.6. The framework of neural networks mimicks the nerons in biological sense. In that each neturon within the network consists of sessions, graphs, placeholders, and variables as key building blocks. I will implement these through the tool of tensorflow in the below process.\n",
    "***\n",
    " <font color=purple>Below is a demonstration of the basic model structure of 1 hidden layer Artificial neural network</font>\n",
    "![basic structure](https://tgmstat.files.wordpress.com/2013/05/neural_network_example1.png)\n"
   ]
  },
  {
   "cell_type": "markdown",
   "metadata": {},
   "source": [
    "### How to install tensorflow in the current: working environment:\n",
    "If you have not installed tensorflow in the current working station system, you have the below two options using pip:\n",
    "\n",
    "**FIRST UPDATE PIP:**   <font color=red>*pip install --upgrade pip*</font>\n",
    "***\n",
    "\n",
    "**VIRTUALENVIRONMENT INSTALL:**   <font color=red>*pip install --upgrade tensorflow*</font>\n",
    "***\n",
    "\n",
    "**SYSTEM INSTALL:**   <font color=red>*pip3 install --user --upgrade tensorflow  # install in $HOME*</font>\n",
    "***\n",
    "\n",
    "**VERIFY INSTALLATION:**  <font color=red>*python -c \"import tensorflow as tf; tf.enable_eager_execution(); print(tf.reduce_sum(tf.random_normal([1000, 1000])))\"*</font>\n",
    "\n",
    "\n",
    "\n"
   ]
  },
  {
   "cell_type": "markdown",
   "metadata": {},
   "source": [
    "Below are the required packages for the simulation of the Multilayer Perceptron Models using tensorflow in Python 3\n",
    "\n",
    "Make sure that you can load them before trying to run the examples on this page.\n",
    "\n"
   ]
  },
  {
   "cell_type": "code",
   "execution_count": 1,
   "metadata": {},
   "outputs": [
    {
     "name": "stderr",
     "output_type": "stream",
     "text": [
      "C:\\Users\\kanny\\Anaconda3\\lib\\site-packages\\h5py\\__init__.py:36: FutureWarning: Conversion of the second argument of issubdtype from `float` to `np.floating` is deprecated. In future, it will be treated as `np.float64 == np.dtype(float).type`.\n",
      "  from ._conv import register_converters as _register_converters\n"
     ]
    }
   ],
   "source": [
    "import numpy as np\n",
    "import pandas as pd\n",
    "from sklearn.model_selection import train_test_split\n",
    "from sklearn import preprocessing\n",
    "import tensorflow as tf\n",
    "#ingnore the warnings for html output\n",
    "import warnings\n",
    "warnings.filterwarnings('ignore')"
   ]
  },
  {
   "cell_type": "markdown",
   "metadata": {},
   "source": [
    "### description of the dataset for modeling: \n",
    "\n",
    "The selected dataset can be found by the below link: https://www.kaggle.com/blastchar/telco-customer-churn Each row within the Telcom Customer Churn dataset represents a customer, and each column contains customer’s attributes described on the column Metadata.The raw data contains 7043 rows (customers) and 21 columns (features). <font color=blue>The “Churn” column is our desired response.</font> All other details of the other featuers of the datasets can be found via the above link.\n"
   ]
  },
  {
   "cell_type": "markdown",
   "metadata": {},
   "source": [
    "### Dataset set-up and data cleaning:\n"
   ]
  },
  {
   "cell_type": "code",
   "execution_count": 2,
   "metadata": {},
   "outputs": [],
   "source": [
    "#import the dataset as panda dataframes\n",
    "data = pd.read_csv('./WA_Fn-UseC_-Telco-Customer-Churn.csv')\n",
    "#select the first 20 columns as X, factorize the categorical elements\n",
    "X = data.iloc[:, :20].astype('category')\n",
    "for i in range(X.shape[1]):\n",
    "    X.iloc[:, i] = X.iloc[:, i].cat.codes\n",
    "#factor \"Churn\" our response as 0,1\n",
    "y = data.iloc[:, -1].astype('category').cat.codes\n",
    "#set up \n",
    "input_size = X.shape[1]\n",
    "hidden_size = 20\n",
    "num_classes = 2"
   ]
  },
  {
   "cell_type": "markdown",
   "metadata": {},
   "source": [
    "below is the first 5 rows of the dataset"
   ]
  },
  {
   "cell_type": "code",
   "execution_count": 3,
   "metadata": {},
   "outputs": [
    {
     "data": {
      "text/html": [
       "<div>\n",
       "<style scoped>\n",
       "    .dataframe tbody tr th:only-of-type {\n",
       "        vertical-align: middle;\n",
       "    }\n",
       "\n",
       "    .dataframe tbody tr th {\n",
       "        vertical-align: top;\n",
       "    }\n",
       "\n",
       "    .dataframe thead th {\n",
       "        text-align: right;\n",
       "    }\n",
       "</style>\n",
       "<table border=\"1\" class=\"dataframe\">\n",
       "  <thead>\n",
       "    <tr style=\"text-align: right;\">\n",
       "      <th></th>\n",
       "      <th>customerID</th>\n",
       "      <th>gender</th>\n",
       "      <th>SeniorCitizen</th>\n",
       "      <th>Partner</th>\n",
       "      <th>Dependents</th>\n",
       "      <th>tenure</th>\n",
       "      <th>PhoneService</th>\n",
       "      <th>MultipleLines</th>\n",
       "      <th>InternetService</th>\n",
       "      <th>OnlineSecurity</th>\n",
       "      <th>OnlineBackup</th>\n",
       "      <th>DeviceProtection</th>\n",
       "      <th>TechSupport</th>\n",
       "      <th>StreamingTV</th>\n",
       "      <th>StreamingMovies</th>\n",
       "      <th>Contract</th>\n",
       "      <th>PaperlessBilling</th>\n",
       "      <th>PaymentMethod</th>\n",
       "      <th>MonthlyCharges</th>\n",
       "      <th>TotalCharges</th>\n",
       "    </tr>\n",
       "  </thead>\n",
       "  <tbody>\n",
       "    <tr>\n",
       "      <th>0</th>\n",
       "      <td>5375</td>\n",
       "      <td>0</td>\n",
       "      <td>0</td>\n",
       "      <td>1</td>\n",
       "      <td>0</td>\n",
       "      <td>1</td>\n",
       "      <td>0</td>\n",
       "      <td>1</td>\n",
       "      <td>0</td>\n",
       "      <td>0</td>\n",
       "      <td>2</td>\n",
       "      <td>0</td>\n",
       "      <td>0</td>\n",
       "      <td>0</td>\n",
       "      <td>0</td>\n",
       "      <td>0</td>\n",
       "      <td>1</td>\n",
       "      <td>2</td>\n",
       "      <td>142</td>\n",
       "      <td>2505</td>\n",
       "    </tr>\n",
       "    <tr>\n",
       "      <th>1</th>\n",
       "      <td>3962</td>\n",
       "      <td>1</td>\n",
       "      <td>0</td>\n",
       "      <td>0</td>\n",
       "      <td>0</td>\n",
       "      <td>34</td>\n",
       "      <td>1</td>\n",
       "      <td>0</td>\n",
       "      <td>0</td>\n",
       "      <td>2</td>\n",
       "      <td>0</td>\n",
       "      <td>2</td>\n",
       "      <td>0</td>\n",
       "      <td>0</td>\n",
       "      <td>0</td>\n",
       "      <td>1</td>\n",
       "      <td>0</td>\n",
       "      <td>3</td>\n",
       "      <td>498</td>\n",
       "      <td>1466</td>\n",
       "    </tr>\n",
       "    <tr>\n",
       "      <th>2</th>\n",
       "      <td>2564</td>\n",
       "      <td>1</td>\n",
       "      <td>0</td>\n",
       "      <td>0</td>\n",
       "      <td>0</td>\n",
       "      <td>2</td>\n",
       "      <td>1</td>\n",
       "      <td>0</td>\n",
       "      <td>0</td>\n",
       "      <td>2</td>\n",
       "      <td>2</td>\n",
       "      <td>0</td>\n",
       "      <td>0</td>\n",
       "      <td>0</td>\n",
       "      <td>0</td>\n",
       "      <td>0</td>\n",
       "      <td>1</td>\n",
       "      <td>3</td>\n",
       "      <td>436</td>\n",
       "      <td>157</td>\n",
       "    </tr>\n",
       "    <tr>\n",
       "      <th>3</th>\n",
       "      <td>5535</td>\n",
       "      <td>1</td>\n",
       "      <td>0</td>\n",
       "      <td>0</td>\n",
       "      <td>0</td>\n",
       "      <td>45</td>\n",
       "      <td>0</td>\n",
       "      <td>1</td>\n",
       "      <td>0</td>\n",
       "      <td>2</td>\n",
       "      <td>0</td>\n",
       "      <td>2</td>\n",
       "      <td>2</td>\n",
       "      <td>0</td>\n",
       "      <td>0</td>\n",
       "      <td>1</td>\n",
       "      <td>0</td>\n",
       "      <td>0</td>\n",
       "      <td>266</td>\n",
       "      <td>1400</td>\n",
       "    </tr>\n",
       "    <tr>\n",
       "      <th>4</th>\n",
       "      <td>6511</td>\n",
       "      <td>0</td>\n",
       "      <td>0</td>\n",
       "      <td>0</td>\n",
       "      <td>0</td>\n",
       "      <td>2</td>\n",
       "      <td>1</td>\n",
       "      <td>0</td>\n",
       "      <td>1</td>\n",
       "      <td>0</td>\n",
       "      <td>0</td>\n",
       "      <td>0</td>\n",
       "      <td>0</td>\n",
       "      <td>0</td>\n",
       "      <td>0</td>\n",
       "      <td>0</td>\n",
       "      <td>1</td>\n",
       "      <td>2</td>\n",
       "      <td>729</td>\n",
       "      <td>925</td>\n",
       "    </tr>\n",
       "  </tbody>\n",
       "</table>\n",
       "</div>"
      ],
      "text/plain": [
       "   customerID  gender  SeniorCitizen  Partner  Dependents  tenure  \\\n",
       "0        5375       0              0        1           0       1   \n",
       "1        3962       1              0        0           0      34   \n",
       "2        2564       1              0        0           0       2   \n",
       "3        5535       1              0        0           0      45   \n",
       "4        6511       0              0        0           0       2   \n",
       "\n",
       "   PhoneService  MultipleLines  InternetService  OnlineSecurity  OnlineBackup  \\\n",
       "0             0              1                0               0             2   \n",
       "1             1              0                0               2             0   \n",
       "2             1              0                0               2             2   \n",
       "3             0              1                0               2             0   \n",
       "4             1              0                1               0             0   \n",
       "\n",
       "   DeviceProtection  TechSupport  StreamingTV  StreamingMovies  Contract  \\\n",
       "0                 0            0            0                0         0   \n",
       "1                 2            0            0                0         1   \n",
       "2                 0            0            0                0         0   \n",
       "3                 2            2            0                0         1   \n",
       "4                 0            0            0                0         0   \n",
       "\n",
       "   PaperlessBilling  PaymentMethod  MonthlyCharges  TotalCharges  \n",
       "0                 1              2             142          2505  \n",
       "1                 0              3             498          1466  \n",
       "2                 1              3             436           157  \n",
       "3                 0              0             266          1400  \n",
       "4                 1              2             729           925  "
      ]
     },
     "execution_count": 3,
     "metadata": {},
     "output_type": "execute_result"
    }
   ],
   "source": [
    "X.head()"
   ]
  },
  {
   "cell_type": "markdown",
   "metadata": {},
   "source": [
    "Below is the set up before implementing into the tensorflow tool"
   ]
  },
  {
   "cell_type": "code",
   "execution_count": 4,
   "metadata": {},
   "outputs": [],
   "source": [
    "#ingnore the warnings for html output\n",
    "import warnings\n",
    "warnings.filterwarnings('ignore')\n",
    "#set up testings sets and training sets(porportion of 75%)\n",
    "traind, testd, trainy, testy = train_test_split(X, y, train_size=0.75)\n",
    "traindd = traind.values;\n",
    "testdd = testd.values\n",
    "#convert categorical variable into dummy/indicator variables\n",
    "trainy = pd.get_dummies(trainy);\n",
    "testy = pd.get_dummies(testy)\n",
    "trainyy = trainy.values;\n",
    "testyy = testy.values\n",
    "#set the scaler to minmax\n",
    "#fit and transform \n",
    "\n",
    "data_scaler = preprocessing.MinMaxScaler()\n",
    "traindd = data_scaler.fit_transform(traindd);\n",
    "testdd = data_scaler.fit_transform(testdd)"
   ]
  },
  {
   "cell_type": "code",
   "execution_count": 5,
   "metadata": {},
   "outputs": [
    {
     "data": {
      "text/plain": [
       "array([[0.83555808, 1.        , 0.        , 1.        , 0.        ,\n",
       "        0.77777778, 1.        , 1.        , 0.5       , 1.        ,\n",
       "        1.        , 1.        , 0.        , 0.        , 0.        ,\n",
       "        0.5       , 1.        , 0.66666667, 0.72692794, 0.67376321],\n",
       "       [0.9417779 , 0.        , 0.        , 0.        , 0.        ,\n",
       "        0.02777778, 1.        , 0.        , 1.        , 0.5       ,\n",
       "        0.5       , 0.5       , 0.5       , 0.5       , 0.5       ,\n",
       "        0.        , 0.        , 0.        , 0.00189633, 0.67866442],\n",
       "       [0.67622834, 1.        , 1.        , 0.        , 0.        ,\n",
       "        0.01388889, 0.        , 0.5       , 0.        , 0.        ,\n",
       "        1.        , 1.        , 0.        , 0.        , 1.        ,\n",
       "        0.        , 1.        , 0.66666667, 0.17193426, 0.56026957]])"
      ]
     },
     "execution_count": 5,
     "metadata": {},
     "output_type": "execute_result"
    }
   ],
   "source": [
    "traindd[:3,]"
   ]
  },
  {
   "cell_type": "code",
   "execution_count": 6,
   "metadata": {},
   "outputs": [
    {
     "data": {
      "text/plain": [
       "array([[1, 0],\n",
       "       [1, 0],\n",
       "       [0, 1]], dtype=uint8)"
      ]
     },
     "execution_count": 6,
     "metadata": {},
     "output_type": "execute_result"
    }
   ],
   "source": [
    "trainyy[:3]"
   ]
  },
  {
   "cell_type": "markdown",
   "metadata": {},
   "source": [
    "### set up for the neura network frameworks: \n",
    "\n",
    "The number of categories the model is choosing from: variable- <font color=purple> *numClasses* </font> set equal to 2\n",
    "***\n",
    "A 28x28 image will have 784 total pixel values : variable - <font color=purple> *inputSize* </font> set equal to 20\n",
    "***\n",
    "The number of hidden units this one layer NN will have : <font color=purple> *numHiddenUnits* </font> set equal to 20, the number of hidden unites within each layer (which we have two) should equals to the number of columns of X\n",
    "***\n",
    "The number of times the training loop is run : <font color=purple> *trainingIterations* </font> set equal to 30, by the end we will have 30 steps within each training process in the session\n",
    "***\n",
    "The number of images/data points we feed in one training batch: <font color=purple> *batchSize* </font> set equal to 10 since our dataset is not huge, setting batch sizes as 10 should be appropriate\n"
   ]
  },
  {
   "cell_type": "code",
   "execution_count": 7,
   "metadata": {},
   "outputs": [],
   "source": [
    "#The number of categories the model is choosing from: variable- numClasses set equal to 2\n",
    "numClasses = 2  \n",
    "#A 28x28 image will have 784 total pixel values : variable - inputSize set equal to 20\n",
    "inputSize = traindd.shape[1] \n",
    "#The number of hidden units this one layer NN will have : numHiddenUnits set equal to 20\n",
    "numHiddenUnits = 20  \n",
    "#The number of times the training loop is run : trainingIterations set equal to 30\n",
    "trainingIterations = 30  \n",
    "#The number of images we feed in one training batch: batchSize set equal to 10\n",
    "batchSize = 40"
   ]
  },
  {
   "cell_type": "markdown",
   "metadata": {},
   "source": [
    "Now we make sure each time running the code, the graph refreshes itself. On the other hand set the tensorflow placeholders type and shape."
   ]
  },
  {
   "cell_type": "code",
   "execution_count": 8,
   "metadata": {},
   "outputs": [],
   "source": [
    "tf.reset_default_graph()\n",
    "X = tf.placeholder(tf.float32, shape=[None, inputSize])\n",
    "y = tf.placeholder(tf.float32, shape=[None, numClasses])"
   ]
  },
  {
   "cell_type": "markdown",
   "metadata": {},
   "source": [
    "Now set the Ws and the Bs for the alpha function of the two hidden layers and the intermediate matrix"
   ]
  },
  {
   "cell_type": "code",
   "execution_count": 9,
   "metadata": {},
   "outputs": [],
   "source": [
    "W1 = tf.Variable(tf.truncated_normal([inputSize, numHiddenUnits], stddev=0.1))\n",
    "B1 = tf.Variable(tf.constant(0.1), [numHiddenUnits])\n",
    "W2 = tf.Variable(tf.truncated_normal([numHiddenUnits, numClasses], stddev=0.1))\n",
    "B2 = tf.Variable(tf.constant(0.1), [numClasses])"
   ]
  },
  {
   "cell_type": "markdown",
   "metadata": {},
   "source": [
    "Now define the alpha function within the hidden layers consists the matrix multiplication, and define the final output"
   ]
  },
  {
   "cell_type": "code",
   "execution_count": 10,
   "metadata": {},
   "outputs": [],
   "source": [
    "hiddenLayerOutput = tf.matmul(X, W1) + B1\n",
    "hiddenLayerOutput = tf.nn.relu(hiddenLayerOutput)\n",
    "finalOutput = tf.matmul(hiddenLayerOutput, W2) + B2"
   ]
  },
  {
   "cell_type": "code",
   "execution_count": 11,
   "metadata": {},
   "outputs": [
    {
     "name": "stdout",
     "output_type": "stream",
     "text": [
      "WARNING:tensorflow:From <ipython-input-11-3ea30f4c8cf2>:4: softmax_cross_entropy_with_logits (from tensorflow.python.ops.nn_ops) is deprecated and will be removed in a future version.\n",
      "Instructions for updating:\n",
      "\n",
      "Future major versions of TensorFlow will allow gradients to flow\n",
      "into the labels input on backprop by default.\n",
      "\n",
      "See `tf.nn.softmax_cross_entropy_with_logits_v2`.\n",
      "\n",
      "step 1, training accuracy 0.425\n",
      "step 2, training accuracy 0.55\n",
      "step 3, training accuracy 0.875\n",
      "step 4, training accuracy 0.85\n",
      "step 5, training accuracy 0.75\n",
      "step 6, training accuracy 0.9\n",
      "step 7, training accuracy 0.725\n",
      "step 8, training accuracy 0.7\n",
      "step 9, training accuracy 0.675\n",
      "step 10, training accuracy 0.725\n",
      "step 11, training accuracy 0.65\n",
      "step 12, training accuracy 0.7\n",
      "step 13, training accuracy 0.775\n",
      "step 14, training accuracy 0.775\n",
      "step 15, training accuracy 0.775\n",
      "step 16, training accuracy 0.775\n",
      "step 17, training accuracy 0.85\n",
      "step 18, training accuracy 0.7\n",
      "step 19, training accuracy 0.6\n",
      "step 20, training accuracy 0.8\n",
      "step 21, training accuracy 0.8\n",
      "step 22, training accuracy 0.725\n",
      "step 23, training accuracy 0.825\n",
      "step 24, training accuracy 0.85\n",
      "step 25, training accuracy 0.775\n",
      "step 26, training accuracy 0.75\n",
      "step 27, training accuracy 0.7\n",
      "step 28, training accuracy 0.725\n",
      "step 29, training accuracy 0.675\n",
      "step 30, training accuracy 0.725\n",
      "testing accuracy: 0.7404883503913879\n"
     ]
    }
   ],
   "source": [
    "#ingnore the warnings for html output\n",
    "import warnings\n",
    "warnings.filterwarnings('ignore')\n",
    "loss = tf.reduce_mean(tf.nn.softmax_cross_entropy_with_logits(labels=y, logits=finalOutput))\n",
    "opt = tf.train.GradientDescentOptimizer(learning_rate=.1).minimize(loss)\n",
    "\n",
    "correct_prediction = tf.equal(tf.argmax(finalOutput, 1), tf.argmax(y, 1))\n",
    "accuracy = tf.reduce_mean(tf.cast(correct_prediction, \"float\"))\n",
    "#now we passes in the operation into the session\n",
    "with tf.Session() as sess:\n",
    "    sess.run(tf.global_variables_initializer())\n",
    "\n",
    "    for i in range(trainingIterations):\n",
    "        idx = np.random.choice(traindd.shape[0], batchSize, replace=False)\n",
    "        batchInput = traindd[idx]\n",
    "        batchLabels = trainyy[idx] #feed batchinput into the feed dictionary\n",
    "        _, _ = sess.run([opt, loss], feed_dict={X: batchInput, y: batchLabels})\n",
    "        if i % 1 == 0:\n",
    "            trainAccuracy = accuracy.eval(session=sess, feed_dict={X: batchInput, y: batchLabels})\n",
    "            print (\"step %d, training accuracy %g\" % (i+1, trainAccuracy))\n",
    "    # test\n",
    "    acc = accuracy.eval(feed_dict={X: testdd, y: testyy})\n",
    "    print(\"testing accuracy: {}\".format(acc))"
   ]
  },
  {
   "cell_type": "code",
   "execution_count": null,
   "metadata": {},
   "outputs": [],
   "source": []
  },
  {
   "cell_type": "code",
   "execution_count": null,
   "metadata": {},
   "outputs": [],
   "source": []
  },
  {
   "cell_type": "code",
   "execution_count": null,
   "metadata": {},
   "outputs": [],
   "source": []
  }
 ],
 "metadata": {
  "kernelspec": {
   "display_name": "Python 3",
   "language": "python",
   "name": "python3"
  },
  "language_info": {
   "codemirror_mode": {
    "name": "ipython",
    "version": 3
   },
   "file_extension": ".py",
   "mimetype": "text/x-python",
   "name": "python",
   "nbconvert_exporter": "python",
   "pygments_lexer": "ipython3",
   "version": "3.6.5"
  }
 },
 "nbformat": 4,
 "nbformat_minor": 2
}
